{
 "cells": [
  {
   "cell_type": "code",
   "execution_count": 1,
   "id": "8b18bdb4-99f8-4238-a9e9-7d8c1d00f6e6",
   "metadata": {},
   "outputs": [],
   "source": [
    "import os\n",
    "from random import shuffle\n",
    "import datasets \n",
    "from datasets import DatasetDict"
   ]
  },
  {
   "cell_type": "code",
   "execution_count": 4,
   "id": "f516e8a7-e39c-4d83-ba2e-d319060d7597",
   "metadata": {},
   "outputs": [
    {
     "name": "stdout",
     "output_type": "stream",
     "text": [
      "11267\n"
     ]
    }
   ],
   "source": [
    "chunk_length = 500\n",
    "folder = r'JCLS2025_submission\\gutenberg_subset\\12_novels_chunks\\doc_60_' + str(chunk_length)\n",
    "chunks = [os.path.join(folder, fn) for fn in sorted(os.listdir(folder))]\n",
    "\n",
    "all_data = []\n",
    "for chunk in chunks:\n",
    "    text = open(chunk, 'r', encoding='utf-8').read().split(' ')\n",
    "    text1 = open(chunk, 'r', encoding='utf-8').read().split(' ')\n",
    "    shuffle(text1)\n",
    "    all_data.append({'orig': ' '.join(text), 'shuffled': ' '.join(text1)})\n",
    "print(len(all_data))"
   ]
  },
  {
   "cell_type": "code",
   "execution_count": 5,
   "id": "75a729ed-3123-4abe-b47a-83bc48c211e9",
   "metadata": {},
   "outputs": [],
   "source": [
    "data_set = datasets.Dataset.from_list(all_data)\n",
    "train_test_dataset = data_set.train_test_split(test_size=0.2)\n",
    "test_valid = train_test_dataset['test'].train_test_split(test_size=0.5)\n",
    "\n",
    "train_test_valid_dataset = DatasetDict({\n",
    "    'train': train_test_dataset['train'],\n",
    "    'test': test_valid['test'],\n",
    "    'valid': test_valid['train']})"
   ]
  },
  {
   "cell_type": "code",
   "execution_count": 6,
   "id": "bda85765-3be0-49aa-988f-1556bf5cf067",
   "metadata": {},
   "outputs": [
    {
     "data": {
      "text/plain": [
       "DatasetDict({\n",
       "    train: Dataset({\n",
       "        features: ['orig', 'shuffled'],\n",
       "        num_rows: 9013\n",
       "    })\n",
       "    test: Dataset({\n",
       "        features: ['orig', 'shuffled'],\n",
       "        num_rows: 1127\n",
       "    })\n",
       "    valid: Dataset({\n",
       "        features: ['orig', 'shuffled'],\n",
       "        num_rows: 1127\n",
       "    })\n",
       "})"
      ]
     },
     "execution_count": 6,
     "metadata": {},
     "output_type": "execute_result"
    }
   ],
   "source": [
    "train_test_valid_dataset"
   ]
  },
  {
   "cell_type": "code",
   "execution_count": 9,
   "id": "d17a6322-a4ca-4a02-b453-af08775a07ea",
   "metadata": {},
   "outputs": [
    {
     "data": {
      "application/vnd.jupyter.widget-view+json": {
       "model_id": "3e918623bf5046dfa14e5bc1dededb9c",
       "version_major": 2,
       "version_minor": 0
      },
      "text/plain": [
       "Saving the dataset (0/1 shards):   0%|          | 0/9013 [00:00<?, ? examples/s]"
      ]
     },
     "metadata": {},
     "output_type": "display_data"
    },
    {
     "data": {
      "application/vnd.jupyter.widget-view+json": {
       "model_id": "420cbfda219647a691eb43b94ce38ec8",
       "version_major": 2,
       "version_minor": 0
      },
      "text/plain": [
       "Saving the dataset (0/1 shards):   0%|          | 0/1127 [00:00<?, ? examples/s]"
      ]
     },
     "metadata": {},
     "output_type": "display_data"
    },
    {
     "data": {
      "application/vnd.jupyter.widget-view+json": {
       "model_id": "44534a0cecc94f118c24186c22b215d1",
       "version_major": 2,
       "version_minor": 0
      },
      "text/plain": [
       "Saving the dataset (0/1 shards):   0%|          | 0/1127 [00:00<?, ? examples/s]"
      ]
     },
     "metadata": {},
     "output_type": "display_data"
    }
   ],
   "source": [
    "train_test_valid_dataset.save_to_disk(r'JCLS2025_submission\\gutenberg_subset\\doc_60_chunk'+str(chunk_length)+'.hf')"
   ]
  }
 ],
 "metadata": {
  "kernelspec": {
   "display_name": "Python 3 (ipykernel)",
   "language": "python",
   "name": "python3"
  },
  "language_info": {
   "codemirror_mode": {
    "name": "ipython",
    "version": 3
   },
   "file_extension": ".py",
   "mimetype": "text/x-python",
   "name": "python",
   "nbconvert_exporter": "python",
   "pygments_lexer": "ipython3",
   "version": "3.11.7"
  }
 },
 "nbformat": 4,
 "nbformat_minor": 5
}
